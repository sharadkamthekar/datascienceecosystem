{
 "cells": [
  {
   "cell_type": "markdown",
   "id": "df9fbd76",
   "metadata": {},
   "source": [
    "# Data Science Tools and Ecosystem"
   ]
  },
  {
   "cell_type": "markdown",
   "id": "45b16da1",
   "metadata": {},
   "source": [
    "In this notebook, Data Science Tools and Ecosystem are summarized."
   ]
  },
  {
   "cell_type": "markdown",
   "id": "67c2b0dc",
   "metadata": {},
   "source": [
    "Some of the popular languages that Data Scientists use are:"
   ]
  },
  {
   "cell_type": "markdown",
   "id": "5ffe96f5",
   "metadata": {},
   "source": [
    "1. Python\n",
    "2. R\n",
    "3. SQL"
   ]
  },
  {
   "cell_type": "markdown",
   "id": "5eecd646",
   "metadata": {},
   "source": [
    "Some of the commonly used libraries used by Data Scientists include:    "
   ]
  },
  {
   "cell_type": "markdown",
   "id": "594dac95",
   "metadata": {},
   "source": [
    "    1. TensorFlow\n",
    "    2. NumPy\n",
    "    3. SciPy"
   ]
  },
  {
   "cell_type": "markdown",
   "id": "1e49dbfc",
   "metadata": {},
   "source": [
    "\n",
    "\n",
    "| Data Science Tools |\n",
    "| -------------|\n",
    "| RStudio | \n",
    "| JupyterNotebook | \n",
    "| Anaconda | "
   ]
  },
  {
   "cell_type": "markdown",
   "id": "23e9c4a1",
   "metadata": {},
   "source": [
    "### Below are a few examples of evaluating arithmetic expressions in Python"
   ]
  },
  {
   "cell_type": "code",
   "execution_count": 7,
   "id": "232b748e",
   "metadata": {},
   "outputs": [
    {
     "data": {
      "text/plain": [
       "17"
      ]
     },
     "execution_count": 7,
     "metadata": {},
     "output_type": "execute_result"
    }
   ],
   "source": [
    "\" This a simple arithmetic expression to mutiply then add integers \"\n",
    "(3*4)+5\n"
   ]
  },
  {
   "cell_type": "code",
   "execution_count": 14,
   "id": "49994d7b",
   "metadata": {},
   "outputs": [
    {
     "name": "stdout",
     "output_type": "stream",
     "text": [
      "3.3333333333333335\n"
     ]
    }
   ],
   "source": [
    "\" This will convert 200 minutes to hours by diving by 60 \"\n",
    "minutes = 200\n",
    "hours = minutes / 60\n",
    "print (hours)\n"
   ]
  },
  {
   "cell_type": "markdown",
   "id": "94179184",
   "metadata": {},
   "source": [
    "**Objectives:**\n",
    "- Python\n",
    "- R\n",
    "- Scala\n",
    "- SQL\n",
    "- Julia"
   ]
  },
  {
   "cell_type": "markdown",
   "id": "3deb61b8",
   "metadata": {},
   "source": [
    "## Author\n",
    "Sharad Shailesh Kamthekar"
   ]
  },
  {
   "cell_type": "code",
   "execution_count": null,
   "id": "443291ef",
   "metadata": {},
   "outputs": [],
   "source": []
  }
 ],
 "metadata": {
  "kernelspec": {
   "display_name": "Python 3 (ipykernel)",
   "language": "python",
   "name": "python3"
  },
  "language_info": {
   "codemirror_mode": {
    "name": "ipython",
    "version": 3
   },
   "file_extension": ".py",
   "mimetype": "text/x-python",
   "name": "python",
   "nbconvert_exporter": "python",
   "pygments_lexer": "ipython3",
   "version": "3.11.4"
  }
 },
 "nbformat": 4,
 "nbformat_minor": 5
}
